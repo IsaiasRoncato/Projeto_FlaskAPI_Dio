{
 "cells": [
  {
   "cell_type": "markdown",
   "id": "9c6270b1",
   "metadata": {},
   "source": [
    "### 1. Instalando Flask"
   ]
  },
  {
   "cell_type": "code",
   "execution_count": null,
   "id": "a9b09ca3",
   "metadata": {},
   "outputs": [],
   "source": [
    "!pip install flask"
   ]
  },
  {
   "cell_type": "markdown",
   "id": "d640b91f",
   "metadata": {},
   "source": [
    "### 2. Criando o Arquivo da API"
   ]
  },
  {
   "cell_type": "code",
   "execution_count": null,
   "id": "353ca03e",
   "metadata": {},
   "outputs": [],
   "source": [
    "from flask import Flask, jsonify\n",
    "\n",
    "app = Flask(__name__)\n",
    "\n",
    "@app.route('/')\n",
    "def welcome():\n",
    "    return jsonify({\"message\": \"Bem-vindo à minha API Flask!\"})\n",
    "\n",
    "@app.route('/usuarios')\n",
    "def get_usuarios():\n",
    "    usuarios = [\n",
    "        {\"id\": 1, \"nome\": \"Alice\", \"email\": \"alice@example.com\"},\n",
    "        {\"id\": 2, \"nome\": \"Bob\", \"email\": \"bob@example.com\"},\n",
    "        {\"id\": 3, \"nome\": \"Carlos\", \"email\": \"carlos@example.com\"},\n",
    "        {\"id\": 4, \"nome\": \"Diana\", \"email\": \"diana@example.com\"}\n",
    "    ]\n",
    "    return jsonify(usuarios)\n",
    "\n",
    "if __name__ == '__main__':\n",
    "    app.run(debug=True)\n"
   ]
  },
  {
   "cell_type": "markdown",
   "id": "0612b928",
   "metadata": {},
   "source": [
    "### 3. Executando a API:"
   ]
  },
  {
   "cell_type": "code",
   "execution_count": null,
   "id": "e9c950c5",
   "metadata": {},
   "outputs": [],
   "source": [
    "python app.py"
   ]
  },
  {
   "cell_type": "markdown",
   "id": "4d34af7f",
   "metadata": {},
   "source": [
    "### 4. Acessando a API:"
   ]
  },
  {
   "cell_type": "markdown",
   "id": "a4fc6164",
   "metadata": {},
   "source": [
    "Para a mensagem de boas-vindas, abra o navegador e vá para http://127.0.0.1:5000/.\n",
    "\n",
    "Para a lista de usuários, vá para http://127.0.0.1:5000/usuarios."
   ]
  }
 ],
 "metadata": {
  "kernelspec": {
   "display_name": "Python 3 (ipykernel)",
   "language": "python",
   "name": "python3"
  },
  "language_info": {
   "codemirror_mode": {
    "name": "ipython",
    "version": 3
   },
   "file_extension": ".py",
   "mimetype": "text/x-python",
   "name": "python",
   "nbconvert_exporter": "python",
   "pygments_lexer": "ipython3",
   "version": "3.11.5"
  }
 },
 "nbformat": 4,
 "nbformat_minor": 5
}
